{
  "nbformat": 4,
  "nbformat_minor": 0,
  "metadata": {
    "colab": {
      "name": "Untitled1.ipynb",
      "provenance": [],
      "authorship_tag": "ABX9TyM/LAuqCRTDqYjEmUsG9J+l",
      "include_colab_link": true
    },
    "kernelspec": {
      "name": "python3",
      "display_name": "Python 3"
    },
    "language_info": {
      "name": "python"
    }
  },
  "cells": [
    {
      "cell_type": "markdown",
      "metadata": {
        "id": "view-in-github",
        "colab_type": "text"
      },
      "source": [
        "<a href=\"https://colab.research.google.com/github/OsamaAbuSitta/JupyterNotebooks/blob/main/%20Deep%20Learning%20Prerequisites%3A%20Linear%20Regression%20in%20Python.ipynb\" target=\"_parent\"><img src=\"https://colab.research.google.com/assets/colab-badge.svg\" alt=\"Open In Colab\"/></a>"
      ]
    },
    {
      "cell_type": "code",
      "metadata": {
        "id": "x8Krs4ri11vA"
      },
      "source": [
        "import numpy as np\n",
        "import matplotlib as plt\n",
        "import pandas as pd"
      ],
      "execution_count": 5,
      "outputs": []
    },
    {
      "cell_type": "code",
      "metadata": {
        "id": "4tnXkbWZ2m2y"
      },
      "source": [
        "# load the data \n",
        "X = []\n",
        "Y = []\n",
        "data_url = 'https://raw.githubusercontent.com/csawtelle/udemy-machine-learning-examples/master/linear_regression_class/data_1d.csv'\n",
        "data = pd.read_csv(data_url,header=None)\n",
        "\n",
        "for x in data[0]:\n",
        "  X.append(float(x))\n",
        "\n",
        "for y in data[1]:\n",
        "  Y.append(float(y))\n",
        "\n",
        "\n",
        "# let's turn X and Y into numpy arrays\n",
        "X = np.array(X)\n",
        "Y = np.array(Y)"
      ],
      "execution_count": 20,
      "outputs": []
    },
    {
      "cell_type": "code",
      "metadata": {
        "colab": {
          "base_uri": "https://localhost:8080/"
        },
        "id": "m3bBo20u46tj",
        "outputId": "c8a5114d-29a6-48fe-9653-f383bff0b496"
      },
      "source": [
        "Y"
      ],
      "execution_count": 22,
      "outputs": [
        {
          "output_type": "execute_result",
          "data": {
            "text/plain": [
              "array([197.17963609,  67.59066954,  60.85413282, 196.90739698,\n",
              "       125.31112852, 115.78578459, 110.76277271, 157.98528569,\n",
              "       159.61941373, 149.00386554,  31.46759088, 184.18521966,\n",
              "       103.22061016, 143.27181836,  46.73641801, 107.1237942 ,\n",
              "       168.30937401, 166.82994267,  70.50145559,  96.86937025,\n",
              "        50.37323584, 145.51917071,  46.55187461,  13.24378631,\n",
              "        62.5006665 , 159.91664958,  77.98420415, 147.26918314,\n",
              "        83.6452954 , 191.95607269,  91.73273416,   8.25141677,\n",
              "        16.09638942,  33.35444214, 131.50574553, 128.69884306,\n",
              "       160.3103805 , 160.60324574, 104.40029316, 126.96945605,\n",
              "       124.51916761, 125.21741443,  98.71948438, 166.43245548,\n",
              "       179.23687261,  33.77723374, 161.37296513, 138.575401  ,\n",
              "        17.90332828,  74.10859171,  74.82132297, 179.24154705,\n",
              "         6.43437238,  78.08635679, 154.59178976,  50.0307539 ,\n",
              "       165.44196619, 110.89728797, 114.69188511, 186.74420631,\n",
              "        70.69722298,  19.17903005,  27.02295992,  87.29244922,\n",
              "       167.92461412,  96.02054844,  24.94632465,  54.00414588,\n",
              "       133.16525443,  28.00622322, 100.60558947,  13.8572726 ,\n",
              "        82.59066294,  50.23180391,  79.48177242, 191.32431784,\n",
              "       120.49511544, 111.35232289,  44.93760649, 172.13320308,\n",
              "        84.889236  ,  69.91899124, 149.77864633, 187.59390974,\n",
              "        66.32685895, 189.14496411, 103.44683588, 158.52943007,\n",
              "        98.69883963, 122.64739506, 124.76334632, 155.67749312,\n",
              "        35.41060825, 151.32345871, 129.43395879, 163.09690261,\n",
              "       142.89852264, 148.09420854,  63.79687625,  86.72368533])"
            ]
          },
          "metadata": {},
          "execution_count": 22
        }
      ]
    }
  ]
}