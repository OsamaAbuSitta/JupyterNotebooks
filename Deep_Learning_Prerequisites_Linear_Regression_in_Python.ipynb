{
  "nbformat": 4,
  "nbformat_minor": 0,
  "metadata": {
    "colab": {
      "name": " Deep Learning Prerequisites: Linear Regression in Python.ipynb",
      "provenance": [],
      "authorship_tag": "ABX9TyOTCZM86uo+EJuru2b8z7xB",
      "include_colab_link": true
    },
    "kernelspec": {
      "name": "python3",
      "display_name": "Python 3"
    },
    "language_info": {
      "name": "python"
    }
  },
  "cells": [
    {
      "cell_type": "markdown",
      "metadata": {
        "id": "view-in-github",
        "colab_type": "text"
      },
      "source": [
        "<a href=\"https://colab.research.google.com/github/OsamaAbuSitta/JupyterNotebooks/blob/main/Deep_Learning_Prerequisites_Linear_Regression_in_Python.ipynb\" target=\"_parent\"><img src=\"https://colab.research.google.com/assets/colab-badge.svg\" alt=\"Open In Colab\"/></a>"
      ]
    },
    {
      "cell_type": "code",
      "metadata": {
        "id": "x8Krs4ri11vA"
      },
      "source": [
        "import numpy as np\n",
        "from matplotlib import pyplot as plt\n",
        "import pandas as pd"
      ],
      "execution_count": 1,
      "outputs": []
    },
    {
      "cell_type": "code",
      "metadata": {
        "id": "4tnXkbWZ2m2y"
      },
      "source": [
        "# load the data \n",
        "X = []\n",
        "Y = []\n",
        "data_url = 'https://raw.githubusercontent.com/csawtelle/udemy-machine-learning-examples/master/linear_regression_class/data_1d.csv'\n",
        "data = pd.read_csv(data_url,header=None)\n",
        "\n",
        "for x in data[0]:\n",
        "  X.append(float(x))\n",
        "\n",
        "for y in data[1]:\n",
        "  Y.append(float(y))\n",
        "\n",
        "\n",
        "# let's turn X and Y into numpy arrays\n",
        "X = np.array(X)\n",
        "Y = np.array(Y)"
      ],
      "execution_count": 2,
      "outputs": []
    },
    {
      "cell_type": "code",
      "metadata": {
        "colab": {
          "base_uri": "https://localhost:8080/",
          "height": 265
        },
        "id": "m3bBo20u46tj",
        "outputId": "d6616177-1678-4d50-fc86-deb1d7986450"
      },
      "source": [
        "# plot to see\n",
        "plt.scatter(X,Y)\n",
        "plt.show()"
      ],
      "execution_count": 3,
      "outputs": [
        {
          "output_type": "display_data",
          "data": {
            "image/png": "[encoded data removed]",
            "text/plain": [
              "<Figure size 432x288 with 1 Axes>"
            ]
          },
          "metadata": {
            "needs_background": "light"
          }
        }
      ]
    },
    {
      "cell_type": "code",
      "metadata": {
        "id": "yTzNjcwQ-YWE",
        "outputId": "c9b7bcab-8cb2-4c21-f2e1-d6e6ae5d0681",
        "colab": {
          "base_uri": "https://localhost:8080/",
          "height": 282
        }
      },
      "source": [
        "# apply the equations we learned to calculate a and b\n",
        "\n",
        "# denominator is common\n",
        "# note: this could be more efficient if\n",
        "#       we only computed the sums and means once\n",
        "denominator = X.dot(X) - X.mean() * X.sum()\n",
        "a = ( X.dot(Y) - Y.mean()*X.sum() ) / denominator\n",
        "b = ( Y.mean() * X.dot(X) - X.mean() * X.dot(Y) ) / denominator\n",
        "\n",
        "# let's calculate the predicted Y\n",
        "Yhat = a*X + b\n",
        "\n",
        "# let's plot everything together to make sure it worked\n",
        "plt.scatter(X, Y)\n",
        "plt.plot(X, Yhat)\n",
        "plt.show()\n",
        "\n",
        "# determine how good the model is by computing the r-squared\n",
        "d1 = Y - Yhat\n",
        "d2 = Y - Y.mean()\n",
        "r2 = 1 - d1.dot(d1) / d2.dot(d2)\n",
        "print(\"the r-squared is:\", r2)"
      ],
      "execution_count": 4,
      "outputs": [
        {
          "output_type": "display_data",
          "data": {
            "image/png": "[encoded data removed]",
            "text/plain": [
              "<Figure size 432x288 with 1 Axes>"
            ]
          },
          "metadata": {
            "needs_background": "light"
          }
        },
        {
          "output_type": "stream",
          "name": "stdout",
          "text": [
            "the r-squared is: 0.9911838202977805\n"
          ]
        }
      ]
    }
  ]
}